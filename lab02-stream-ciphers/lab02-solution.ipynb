{
 "cells": [
  {
   "cell_type": "code",
   "execution_count": 1,
   "metadata": {},
   "outputs": [],
   "source": [
    "import random\n",
    "import math\n",
    "import scipy.special as spc\n",
    "from itertools import cycle"
   ]
  },
  {
   "cell_type": "markdown",
   "metadata": {},
   "source": [
    "---\n",
    "## XOR cipher with random bytes generator"
   ]
  },
  {
   "cell_type": "code",
   "execution_count": 2,
   "metadata": {},
   "outputs": [],
   "source": [
    "def random_bytes_generator():\n",
    "    \"\"\" Generates random bytes \"\"\"\n",
    "    while True:\n",
    "        yield random.getrandbits(8)\n",
    "\n",
    "def xor_encipher(plaintext: str, key: str) -> str:\n",
    "    \"\"\"\n",
    "    Applies XOR cipher by xor'ing binary representation of each char with key.\n",
    "    Works for any unicode char.\n",
    "    \"\"\"\n",
    "    random.seed(key)\n",
    "    return ''.join([\n",
    "        chr(ord(char) ^ k)\n",
    "        for char, k in zip(plaintext, random_bytes_generator())\n",
    "    ])\n",
    "\n",
    "def xor_decipher(ciphertext: str, key: str) -> str:\n",
    "    \"\"\"\n",
    "    Decrypts XOR cipher applying it secound time.\n",
    "    Works for any unicode char.\n",
    "    \"\"\"\n",
    "    return xor_encipher(ciphertext, key)"
   ]
  },
  {
   "cell_type": "markdown",
   "metadata": {},
   "source": [
    "### Example"
   ]
  },
  {
   "cell_type": "code",
   "execution_count": 3,
   "metadata": {},
   "outputs": [
    {
     "data": {
      "text/plain": [
       "\"1¢\\x83'ß«\\x17È°Ý\\x13\""
      ]
     },
     "execution_count": 3,
     "metadata": {},
     "output_type": "execute_result"
    }
   ],
   "source": [
    "xor_encipher('ala ma kota', 'klucz')"
   ]
  },
  {
   "cell_type": "code",
   "execution_count": 4,
   "metadata": {
    "scrolled": true
   },
   "outputs": [
    {
     "data": {
      "text/plain": [
       "'ala ma kota'"
      ]
     },
     "execution_count": 4,
     "metadata": {},
     "output_type": "execute_result"
    }
   ],
   "source": [
    "xor_decipher(\"1¢\\x83'ß«\\x17È°Ý\\x13\", 'klucz')"
   ]
  },
  {
   "cell_type": "markdown",
   "metadata": {},
   "source": [
    "### Tests on XOR cipher"
   ]
  },
  {
   "cell_type": "code",
   "execution_count": 5,
   "metadata": {},
   "outputs": [],
   "source": [
    "plain_1 = 'abcdefg'\n",
    "plain_2 = 'abcrtyu'\n",
    "\n",
    "cipher_1 = xor_encipher(plain_1, 'klucz')\n",
    "cipher_2 = xor_encipher(plain_2, 'klucz')\n",
    "\n",
    "plain_xor = [ord(c1)^ord(c2) for c1, c2 in zip(cipher_1, cipher_2)]\n",
    "cipher_xor = [ord(c1)^ord(c2) for c1, c2 in zip(plain_1, plain_2)]"
   ]
  },
  {
   "cell_type": "code",
   "execution_count": 6,
   "metadata": {},
   "outputs": [
    {
     "data": {
      "text/plain": [
       "[0, 0, 0, 22, 17, 31, 18]"
      ]
     },
     "execution_count": 6,
     "metadata": {},
     "output_type": "execute_result"
    }
   ],
   "source": [
    "plain_xor"
   ]
  },
  {
   "cell_type": "code",
   "execution_count": 7,
   "metadata": {},
   "outputs": [
    {
     "data": {
      "text/plain": [
       "[0, 0, 0, 22, 17, 31, 18]"
      ]
     },
     "execution_count": 7,
     "metadata": {},
     "output_type": "execute_result"
    }
   ],
   "source": [
    "cipher_xor"
   ]
  },
  {
   "cell_type": "code",
   "execution_count": 8,
   "metadata": {},
   "outputs": [
    {
     "data": {
      "text/plain": [
       "True"
      ]
     },
     "execution_count": 8,
     "metadata": {},
     "output_type": "execute_result"
    }
   ],
   "source": [
    "plain_xor == cipher_xor"
   ]
  },
  {
   "cell_type": "markdown",
   "metadata": {},
   "source": [
    "---\n",
    "## 1. Frequency (Monobit) Test"
   ]
  },
  {
   "cell_type": "code",
   "execution_count": 9,
   "metadata": {},
   "outputs": [],
   "source": [
    "def frequency(series: str) -> float:\n",
    "    \"\"\"\n",
    "    Note that this description is taken from the NIST documentation [1]\n",
    "  \n",
    "    The focus of this test is the proportion of zeros and ones for the entire sequence. The purpose of this test is\n",
    "    to determine whether the number of ones and zeros in a sequence are approximately the same as would be expected\n",
    "    for a truly random sequence. This test assesses the closeness of the fraction of ones to 1/2, that is the number\n",
    "    of ones and zeros ina  sequence should be about the same. All subsequent tests depend on this test.\n",
    "  \n",
    "    :param text: a binary string <=> string that contains only '0' and '1'\n",
    "    :return: the p-value from the test\n",
    "    \"\"\"\n",
    "    n = len(series)\n",
    "    \n",
    "    # (1)\n",
    "    S = series.count('1') - series.count('0')\n",
    "    \n",
    "    # (2)\n",
    "    sobs = S / math.sqrt(n)\n",
    "    \n",
    "    # (3)\n",
    "    p_value = spc.erfc(math.fabs(sobs) / math.sqrt(2))\n",
    "    \n",
    "    return p_value\n",
    "\n",
    "def validate_frequency(series: str) -> bool:\n",
    "    \"\"\"\n",
    "    As described in NIST documentation [1]:\n",
    "    \n",
    "    If the computed P-value is < 0.01, then conclude that the sequence is non-random.\n",
    "    Otherwise, conclude that the sequence is random. \n",
    "    \"\"\"\n",
    "    return frequency(series) >= 0.01"
   ]
  },
  {
   "cell_type": "markdown",
   "metadata": {},
   "source": [
    "### Examples"
   ]
  },
  {
   "cell_type": "code",
   "execution_count": 10,
   "metadata": {},
   "outputs": [
    {
     "name": "stdout",
     "output_type": "stream",
     "text": [
      "'1011010101'\n",
      "Wynik: 0.527089256866  True\n",
      "\n",
      "'0000000000000000000000000000000000000000000000000000000000000000000000000000000000000000000000000000'\n",
      "Wynik: 0.000000000000  False\n",
      "\n",
      "'1111111111111111111111111111111111111111111111111111111111111111111111111111111111111111111111111111'\n",
      "Wynik: 0.000000000000  False\n",
      "\n",
      "'1110111011101110111011101110111011101110111011101110111011101110111011101110111011101110111011101110'\n",
      "Wynik: 0.000000573303  False\n",
      "\n",
      "'1010101010101010101010101010101010101010101010101010101010101010101010101010101010101010101010101010'\n",
      "Wynik: 1.000000000000  True\n",
      "\n",
      "'1111111111111111111111111111111111111111111111111100000000000000000000000000000000000000000000000000'\n",
      "Wynik: 1.000000000000  True\n",
      "\n",
      "'1110010001100100110111101100010111111011101000001111100000111000011011100110101010001111111010101101'\n",
      "Wynik: 0.230139340443  True\n",
      "\n",
      "'0000100110110111001100110001011010010000001100111001111100010000110101000000101011101100110000000000'\n",
      "Wynik: 0.071860638226  True\n",
      "\n",
      "'1100100011001100111100101001001011101101000100100000110110010001010100000001000011011001110111000000'\n",
      "Wynik: 0.109598583399  True\n",
      "\n",
      "'1001110110010011011101010000001101011110101011110100000010110000011010111000101111101011001101100100'\n",
      "Wynik: 0.841480581122  True\n",
      "\n",
      "'1111110001110101111010000011011001001000010110111110110100000000100010100110010001011000010111011010'\n",
      "Wynik: 0.689156516779  True\n",
      "\n"
     ]
    }
   ],
   "source": [
    "samples = ['1011010101', '0'*100, '1'*100, '1110'*25, '10'*50, '1'*50+'0'*50]\n",
    "samples += [''.join(random.choices('01', k=100)) for _ in range(5)]\n",
    "\n",
    "for s in samples:\n",
    "    print(f\"'{s}'\\nWynik: {frequency(s):1.12f}  {validate_frequency(s)}\\n\")"
   ]
  },
  {
   "cell_type": "markdown",
   "metadata": {},
   "source": [
    "---\n",
    "## 2. Frequency Test within a Block"
   ]
  },
  {
   "cell_type": "code",
   "execution_count": 11,
   "metadata": {},
   "outputs": [],
   "source": [
    "def block_frequency(series: str, M: int) -> float:\n",
    "    \"\"\"\n",
    "    Note that this description is taken from the NIST documentation [1]\n",
    "  \n",
    "    The focus of the test is the proportion of ones within M-bit blocks. The purpose of this test is to determine\n",
    "    whether the frequency of ones in an M-bit block is approximately M/2, as would be expected under an\n",
    "    assumption of randomness. For block size M=1, this test degenerates to test 1, the Frequency (Monobit)\n",
    "    test. \n",
    "  \n",
    "    :param series: a binary string <=> string that contains only '0' and '1'\n",
    "    :param M: size of block\n",
    "    :return: the p-value from the test\n",
    "    \"\"\"\n",
    "    n = len(series)\n",
    "    \n",
    "    # (1)\n",
    "    blocks = [series[i:i+M] for i in range(0, n-1, M)]\n",
    "    N = len(blocks)\n",
    "    \n",
    "    # (2)\n",
    "    blocks_pi = [block.count('1') / M for block in blocks]\n",
    "    \n",
    "    # (3)\n",
    "    chi_squared = 4 * M * sum((pi - 0.5)**2 for pi in blocks_pi)\n",
    "    \n",
    "    # (4)\n",
    "    p_value = spc.gammaincc(N / 2, chi_squared / 2)\n",
    "    \n",
    "    return p_value\n",
    "\n",
    "def validate_block_frequency(series: str, M: int) -> bool:\n",
    "    \"\"\"\n",
    "    As described in NIST documentation [1]:\n",
    "    \n",
    "    If the computed P-value is < 0.01, then conclude that the sequence is non-random.\n",
    "    Otherwise, conclude that the sequence is random. \n",
    "    \"\"\"\n",
    "    return block_frequency(series, M) >= 0.01"
   ]
  },
  {
   "cell_type": "markdown",
   "metadata": {},
   "source": [
    "### Examples"
   ]
  },
  {
   "cell_type": "code",
   "execution_count": 12,
   "metadata": {},
   "outputs": [
    {
     "name": "stdout",
     "output_type": "stream",
     "text": [
      "M=3\t'0110011010'\n",
      "Wynik: 0.801251956901  True\n",
      "\n",
      "M=20\t'0000000000000000000000000000000000000000000000000000000000000000000000000000000000000000000000000000'\n",
      "Wynik: 0.000000000000  False\n",
      "\n",
      "M=20\t'1111111111111111111111111111111111111111111111111111111111111111111111111111111111111111111111111111'\n",
      "Wynik: 0.000000000000  False\n",
      "\n",
      "M=20\t'1110111011101110111011101110111011101110111011101110111011101110111011101110111011101110111011101110'\n",
      "Wynik: 0.000139333791  False\n",
      "\n",
      "M=20\t'1010101010101010101010101010101010101010101010101010101010101010101010101010101010101010101010101010'\n",
      "Wynik: 1.000000000000  True\n",
      "\n",
      "M=20\t'1111111111111111111111111111111111111111111111111100000000000000000000000000000000000000000000000000'\n",
      "Wynik: 0.000000000000  False\n",
      "\n",
      "M=20\t'1000110101101001000101010100011000100101011010101101001110001100111101011000100001101001000011111010'\n",
      "Wynik: 0.962565773247  True\n",
      "\n",
      "M=20\t'1011110000100111111100001001100101111111011011111101000011011000110101110011111101000101010110101000'\n",
      "Wynik: 0.369035869571  True\n",
      "\n",
      "M=20\t'0110101000011110101110001110010100110101100100000100001101111100000101000110110001111101000001101100'\n",
      "Wynik: 0.876068400325  True\n",
      "\n",
      "M=20\t'0100100000001010011100001110111001001101000010111011101001100000010001110110001110001011000100110010'\n",
      "Wynik: 0.638569923104  True\n",
      "\n",
      "M=20\t'0001011111000101011111011100001000111110010111001100101010101010011101011110011001111100000110010111'\n",
      "Wynik: 0.924313272802  True\n",
      "\n"
     ]
    }
   ],
   "source": [
    "samples = [('0110011010', 3), ('0'*100, 20), ('1'*100, 20), ('1110'*25, 20), ('10'*50, 20), ('1'*50+'0'*50, 20)]\n",
    "samples += [(''.join(random.choices('01', k=100)), 20) for _ in range(5)]\n",
    "\n",
    "for s, m in samples:\n",
    "    print(f\"M={m}\\t'{s}'\\nWynik: {block_frequency(s, m):1.12f}  {validate_block_frequency(s, m)}\\n\")"
   ]
  },
  {
   "cell_type": "markdown",
   "metadata": {},
   "source": [
    "---\n",
    "## 3. Runs Test"
   ]
  },
  {
   "cell_type": "code",
   "execution_count": 13,
   "metadata": {},
   "outputs": [],
   "source": [
    "def runs(text: str) -> float:\n",
    "    \"\"\"\n",
    "    Note that this description is taken from the NIST documentation [1]\n",
    "  \n",
    "    The focus of this test is the total number of runs in the sequence, where a run is an uninterrupted sequence\n",
    "    of identical bits. A run of length k consists of exactly k identical bits and is bounded before and after with\n",
    "    a bit of the opposite value. The purpose of the runs test is to determine whether the number of runs of ones and zeros of various lengths is as expected for a random sequence. In particular, this test determines\n",
    "    whether the oscillation between such zeros and ones is too fast or too slow.\n",
    "  \n",
    "    :param series: a binary string <=> string that contains only '0' and '1'\n",
    "    :return: the p-value from the test\n",
    "    \"\"\"\n",
    "    n = len(text)\n",
    "    \n",
    "    # (1)\n",
    "    pi = text.count('1') / len(text)\n",
    "    \n",
    "    # (2)\n",
    "    if abs(pi - 0.5) >= 2 / math.sqrt(n):\n",
    "        return 0.0\n",
    "    \n",
    "    # (3)\n",
    "    vobs = sum(text[k] != text[k+1] for k in range(len(text)-1)) + 1\n",
    "    \n",
    "    # (4)\n",
    "    p_value = spc.erfc(abs(vobs - 2 * n * pi * (1 - pi)) / (2 * math.sqrt(2 * n) * pi * (1 - pi)))\n",
    "    \n",
    "    return p_value\n",
    "\n",
    "def validate_runs(series: str) -> bool:\n",
    "    \"\"\"\n",
    "    As described in NIST documentation [1]:\n",
    "    \n",
    "    If the computed P-value is < 0.01, then conclude that the sequence is non-random.\n",
    "    Otherwise, conclude that the sequence is random. \n",
    "    \"\"\"\n",
    "    return runs(series) >= 0.01"
   ]
  },
  {
   "cell_type": "code",
   "execution_count": 14,
   "metadata": {},
   "outputs": [
    {
     "name": "stdout",
     "output_type": "stream",
     "text": [
      "'1001101011'\n",
      "Wynik: 0.147232255364  True\n",
      "\n",
      "'0000000000000000000000000000000000000000000000000000000000000000000000000000000000000000000000000000'\n",
      "Wynik: 0.000000000000  False\n",
      "\n",
      "'1111111111111111111111111111111111111111111111111111111111111111111111111111111111111111111111111111'\n",
      "Wynik: 0.000000000000  False\n",
      "\n",
      "'1110111011101110111011101110111011101110111011101110111011101110111011101110111011101110111011101110'\n",
      "Wynik: 0.000000000000  False\n",
      "\n",
      "'1010101010101010101010101010101010101010101010101010101010101010101010101010101010101010101010101010'\n",
      "Wynik: 0.000000000000  False\n",
      "\n",
      "'1111111111111111111111111111111111111111111111111100000000000000000000000000000000000000000000000000'\n",
      "Wynik: 0.000000000000  False\n",
      "\n",
      "'1011010110001010101111011001101100100101100101000110101010101011000010111010010010110000001000000101'\n",
      "Wynik: 0.007336755458  False\n",
      "\n",
      "'0000001101100011110000111011001000000001000111000011110010001110010100011100111000000001110000000010'\n",
      "Wynik: 0.010106728213  True\n",
      "\n",
      "'0010001000100000011110010001110010100100011100111001011010110010011101001101001001011101110000010000'\n",
      "Wynik: 0.686273924939  True\n",
      "\n",
      "'0000111101000101101000110011110010110001111000011111100011010100011101010001110110011110001111010100'\n",
      "Wynik: 0.558590820051  True\n",
      "\n",
      "'1000101111001100101101101100100111001010101000010100101010010000111101010100010001111110000111000101'\n",
      "Wynik: 0.156112176329  True\n",
      "\n"
     ]
    }
   ],
   "source": [
    "samples = ['1001101011', '0'*100, '1'*100, '1110'*25, '10'*50, '1'*50+'0'*50]\n",
    "samples += [''.join(random.choices('01', k=100)) for _ in range(5)]\n",
    "\n",
    "for s in samples:\n",
    "    print(f\"'{s}'\\nWynik: {runs(s):1.12f}  {validate_runs(s)}\\n\")"
   ]
  },
  {
   "cell_type": "markdown",
   "metadata": {},
   "source": [
    "---\n",
    "## 4. Test for the Longest Run of Ones in a Block"
   ]
  },
  {
   "cell_type": "code",
   "execution_count": 15,
   "metadata": {},
   "outputs": [],
   "source": [
    "def longest_run_of_ones(series: str) -> float:\n",
    "    \"\"\"\n",
    "    Note that this description is taken from the NIST documentation [1]\n",
    "  \n",
    "    The focus of the test is the longest run of ones within M-bit blocks. The purpose of this test is to\n",
    "    determine whether the length of the longest run of ones within the tested sequence is consistent with the\n",
    "    length of the longest run of ones that would be expected in a random sequence. Note that an irregularity in\n",
    "    the expected length of the longest run of ones implies that there is also an irregularity in the expected\n",
    "    length of the longest run of zeroes. Therefore, only a test for ones is necessary.\n",
    "    \n",
    "    Assumes values: M = 8, K = 3 and N = 16\n",
    "  \n",
    "    :param series: a binary string <=> string that contains only '0' and '1'\n",
    "    :return: the p-value from the test\n",
    "    \"\"\"\n",
    "    M = 8\n",
    "    K = 3\n",
    "    N = 16\n",
    "    pi = [0.2148, 0.3672, 0.2305, 0.1875]\n",
    "    n = len(series)\n",
    "    \n",
    "    # (1)\n",
    "    blocks = [series[i:i+M] for i in range(0, n-1, M)]\n",
    "    N = len(blocks)\n",
    "    \n",
    "    # (2)\n",
    "    lengths = [\n",
    "        max(len(s) for s in block.split('0'))\n",
    "        for block in blocks\n",
    "    ]\n",
    "    v = [\n",
    "        sum(l <= 1 for l in lengths),\n",
    "        sum(l == 2 for l in lengths),\n",
    "        sum(l == 3 for l in lengths),\n",
    "        sum(l >= 4 for l in lengths)\n",
    "    ]\n",
    "    \n",
    "    # (3)\n",
    "    chi_squared = sum((v[i] - N * pi[i])**2 / (N * pi[i]) for i in range(K+1))\n",
    "    \n",
    "    # (4)\n",
    "    p_value = spc.gammaincc(K / 2, chi_squared / 2)\n",
    "    \n",
    "    return p_value\n",
    "\n",
    "def validate_longest_run_of_ones(series: str) -> bool:\n",
    "    \"\"\"\n",
    "    As described in NIST documentation [1]:\n",
    "    \n",
    "    If the computed P-value is < 0.01, then conclude that the sequence is non-random.\n",
    "    Otherwise, conclude that the sequence is random. \n",
    "    \"\"\"\n",
    "    return longest_run_of_ones(series) >= 0.01"
   ]
  },
  {
   "cell_type": "code",
   "execution_count": 16,
   "metadata": {},
   "outputs": [
    {
     "name": "stdout",
     "output_type": "stream",
     "text": [
      "'11001100000101010110110001001100111000000000001001001101010100010001001111010110100000001101011111001100111001101101100010110010'\n",
      "Wynik: 0.620728953394  True\n",
      "\n",
      "'0000000000000000000000000000000000000000000000000000000000000000000000000000000000000000000000000000'\n",
      "Wynik: 0.000000000000  False\n",
      "\n",
      "'1111111111111111111111111111111111111111111111111111111111111111111111111111111111111111111111111111'\n",
      "Wynik: 0.000000000000  False\n",
      "\n",
      "'1110111011101110111011101110111011101110111011101110111011101110111011101110111011101110111011101110'\n",
      "Wynik: 0.000000000000  False\n",
      "\n",
      "'1010101010101010101010101010101010101010101010101010101010101010101010101010101010101010101010101010'\n",
      "Wynik: 0.000000000000  False\n",
      "\n",
      "'1111111111111111111111111111111111111111111111111100000000000000000000000000000000000000000000000000'\n",
      "Wynik: 0.000000000000  False\n",
      "\n",
      "'0010011001011100011110100101100110110010011000100010100111110110001111110000001000010011110111010101'\n",
      "Wynik: 1.000000000000  True\n",
      "\n",
      "'1111001000000001000100010100000101010000100001001111001010111011001001001110110101111011000101101010'\n",
      "Wynik: 0.338167549230  True\n",
      "\n",
      "'0110101001111011000111110101101111111011110100010001001011100001111000000001000001010010000010011011'\n",
      "Wynik: 0.425846919453  True\n",
      "\n",
      "'1011110110100110001011000000100011000011111111100010110011010101110001000100101100011001101110101001'\n",
      "Wynik: 0.841480581122  True\n",
      "\n",
      "'1000110111111001010011010000000110010000000100010000001100101100110010001111110101100010000101000010'\n",
      "Wynik: 0.676922239021  True\n",
      "\n"
     ]
    }
   ],
   "source": [
    "samples = ['11001100000101010110110001001100111000000000001001001101010100010001001111010110100000001101011111001100111001101101100010110010']\n",
    "samples += ['0'*100, '1'*100, '1110'*25, '10'*50, '1'*50+'0'*50]\n",
    "samples += [''.join(random.choices('01', k=100)) for _ in range(5)]\n",
    "\n",
    "for s in samples:\n",
    "    print(f\"'{s}'\\nWynik: {runs(s):1.12f}  {validate_runs(s)}\\n\")"
   ]
  },
  {
   "cell_type": "markdown",
   "metadata": {},
   "source": [
    "## References\n",
    "[1] http://csrc.nist.gov/publications/nistpubs/800-22-rev1a/SP800-22rev1a.pdf"
   ]
  }
 ],
 "metadata": {
  "kernelspec": {
   "display_name": "Python 3",
   "language": "python",
   "name": "python3"
  },
  "language_info": {
   "codemirror_mode": {
    "name": "ipython",
    "version": 3
   },
   "file_extension": ".py",
   "mimetype": "text/x-python",
   "name": "python",
   "nbconvert_exporter": "python",
   "pygments_lexer": "ipython3",
   "version": "3.7.4"
  }
 },
 "nbformat": 4,
 "nbformat_minor": 2
}
