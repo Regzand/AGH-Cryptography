{
 "cells": [
  {
   "cell_type": "code",
   "execution_count": 1,
   "metadata": {},
   "outputs": [],
   "source": [
    "import string\n",
    "from collections import Counter, OrderedDict\n",
    "from itertools import cycle\n",
    "import matplotlib.pyplot as plt\n",
    "import numpy as np\n",
    "from typing import List, Tuple"
   ]
  },
  {
   "cell_type": "markdown",
   "metadata": {},
   "source": [
    "---\n",
    "## Caesar cipher"
   ]
  },
  {
   "cell_type": "code",
   "execution_count": 2,
   "metadata": {},
   "outputs": [],
   "source": [
    "def caesar_encipher(plaintext: str, key: int, alphabet: str = string.printable) -> str:\n",
    "    \"\"\"\n",
    "    Applies Caesar cipher by shifting each letter by 'key' positions\n",
    "    \"\"\"\n",
    "    return ''.join([\n",
    "        alphabet[(alphabet.index(c) + key) % len(alphabet)]\n",
    "        for c in plaintext\n",
    "    ])\n",
    "\n",
    "def caesar_decipher(ciphertext: str, key: int, alphabet: str = string.printable) -> str:\n",
    "    \"\"\"\n",
    "    Decrypts Caesar cipher by shifting each letter by negative 'key' positions\n",
    "    \"\"\"\n",
    "    return caesar_encipher(ciphertext, -key, alphabet)"
   ]
  },
  {
   "cell_type": "markdown",
   "metadata": {},
   "source": [
    "### Example"
   ]
  },
  {
   "cell_type": "code",
   "execution_count": 3,
   "metadata": {},
   "outputs": [
    {
     "data": {
      "text/plain": [
       "'hsh1th1rvAh'"
      ]
     },
     "execution_count": 3,
     "metadata": {},
     "output_type": "execute_result"
    }
   ],
   "source": [
    "caesar_encipher('ala ma kota', 7)"
   ]
  },
  {
   "cell_type": "code",
   "execution_count": 4,
   "metadata": {},
   "outputs": [
    {
     "data": {
      "text/plain": [
       "'ala ma kota'"
      ]
     },
     "execution_count": 4,
     "metadata": {},
     "output_type": "execute_result"
    }
   ],
   "source": [
    "caesar_decipher('hsh1th1rvAh', 7)"
   ]
  },
  {
   "cell_type": "markdown",
   "metadata": {},
   "source": [
    "---\n",
    "## Vigenère cipher"
   ]
  },
  {
   "cell_type": "code",
   "execution_count": 5,
   "metadata": {},
   "outputs": [],
   "source": [
    "def vigenere_encipher(plaintext: str, key: str, alphabet: str = string.printable) -> str:\n",
    "    \"\"\"\n",
    "    Applies Vigenere cipher by applying Caesar cipher to each letter separately\n",
    "    with key set to position of letter from key in alfabet.\n",
    "    Key is repeated if shorter than plaintext.\n",
    "    \"\"\"\n",
    "    return ''.join([\n",
    "        caesar_encipher(char, alphabet.index(key), alphabet=alphabet)\n",
    "        for char, key in zip(plaintext, cycle(key))\n",
    "    ])\n",
    "\n",
    "def vigenere_decipher(ciphertext: str, key: str, alphabet: str = string.printable) -> str:\n",
    "    \"\"\"\n",
    "    Decrypts Vigenere cipher by applying Caesar decipher to each letter separately\n",
    "    with key set to position of letter from key in alfabet.\n",
    "    Key is repeated if shorter than plaintext.\n",
    "    \"\"\"\n",
    "    return ''.join([\n",
    "        caesar_decipher(char, alphabet.index(key), alphabet=alphabet)\n",
    "        for char, key in zip(ciphertext, cycle(key))\n",
    "    ])"
   ]
  },
  {
   "cell_type": "markdown",
   "metadata": {},
   "source": [
    "### Example"
   ]
  },
  {
   "cell_type": "code",
   "execution_count": 6,
   "metadata": {},
   "outputs": [
    {
     "data": {
      "text/plain": [
       "'uGE6VufOA#u'"
      ]
     },
     "execution_count": 6,
     "metadata": {},
     "output_type": "execute_result"
    }
   ],
   "source": [
    "vigenere_encipher('ala ma kota', 'klucz')"
   ]
  },
  {
   "cell_type": "code",
   "execution_count": 7,
   "metadata": {},
   "outputs": [
    {
     "data": {
      "text/plain": [
       "'ala ma kota'"
      ]
     },
     "execution_count": 7,
     "metadata": {},
     "output_type": "execute_result"
    }
   ],
   "source": [
    "vigenere_decipher('uGE6VufOA#u', 'klucz')"
   ]
  },
  {
   "cell_type": "markdown",
   "metadata": {},
   "source": [
    "---\n",
    "## XOR cipher"
   ]
  },
  {
   "cell_type": "code",
   "execution_count": 8,
   "metadata": {},
   "outputs": [],
   "source": [
    "def xor_encipher(plaintext: str, key: int) -> str:\n",
    "    \"\"\"\n",
    "    Applies XOR cipher by xor'ing binary representation of each char with key.\n",
    "    Works for any unicode char.\n",
    "    \"\"\"\n",
    "    return ''.join([\n",
    "        chr(ord(char) ^ key)\n",
    "        for char in plaintext\n",
    "    ])\n",
    "\n",
    "def xor_decipher(ciphertext: str, key: int) -> str:\n",
    "    \"\"\"\n",
    "    Decrypts XOR cipher applying it secound time.\n",
    "    Works for any unicode char.\n",
    "    \"\"\"\n",
    "    return xor_encipher(ciphertext, key)"
   ]
  },
  {
   "cell_type": "markdown",
   "metadata": {},
   "source": [
    "### Example"
   ]
  },
  {
   "cell_type": "code",
   "execution_count": 9,
   "metadata": {},
   "outputs": [
    {
     "data": {
      "text/plain": [
       "'lal-`l-fbyl'"
      ]
     },
     "execution_count": 9,
     "metadata": {},
     "output_type": "execute_result"
    }
   ],
   "source": [
    "xor_encipher('ala ma kota', 13)"
   ]
  },
  {
   "cell_type": "code",
   "execution_count": 10,
   "metadata": {},
   "outputs": [
    {
     "data": {
      "text/plain": [
       "'ala ma kota'"
      ]
     },
     "execution_count": 10,
     "metadata": {},
     "output_type": "execute_result"
    }
   ],
   "source": [
    "xor_decipher('lal-`l-fbyl', 13)"
   ]
  },
  {
   "cell_type": "markdown",
   "metadata": {},
   "source": [
    "---\n",
    "## Playfair cipher"
   ]
  },
  {
   "cell_type": "code",
   "execution_count": 11,
   "metadata": {},
   "outputs": [],
   "source": [
    "def playfair_table(key: str) -> np.array:\n",
    "    \"\"\" Generates 5x5 table for playfair cipher \"\"\"\n",
    "    \n",
    "    # remove invalid chars from key and move to uppercase\n",
    "    key = [c for c in key.upper() if c in string.ascii_uppercase]\n",
    "    \n",
    "    # append alphabet\n",
    "    key += list(string.ascii_uppercase)\n",
    "    \n",
    "    # remove 'J'\n",
    "    key.remove('J')\n",
    "    \n",
    "    # remove duplicate letters\n",
    "    key = list(OrderedDict.fromkeys(key))\n",
    "    \n",
    "    # create array and reshape it to 5x5\n",
    "    return np.array(key).reshape((5,5))\n",
    "\n",
    "def playfair_substitute(l1: str, l2: str, table: np.array, move: int = 1):\n",
    "    \"\"\" Performs Playfair substitution. \"\"\"\n",
    "    \n",
    "    # get letters positions in table\n",
    "    p1 = list(zip(*np.where(table == l1)))[0]\n",
    "    p2 = list(zip(*np.where(table == l2)))[0]\n",
    "    \n",
    "    # if same row return letters next to them in this row (by delta)\n",
    "    if p1[0] == p2[0]:\n",
    "        return table[p1[0], (p1[1]+move+5) % 5], table[p2[0], (p2[1]+move+5) % 5]\n",
    "    \n",
    "    # if same column return letters next to them in this column (by delta)\n",
    "    if p1[1] == p2[1]:\n",
    "        return table[(p1[0]+move+5) % 5, p1[1]], table[(p2[0]+move+5) % 5, p2[1]]\n",
    "    \n",
    "    # in other case return using the 'rectangle' rule\n",
    "    return table[p1[0], p2[1]], table[p2[0], p1[1]]\n",
    "\n",
    "def playfair_encipher(plaintext: str, key:str) -> str:\n",
    "    \"\"\" Applies Playfair cipher. Accepts only ascii letters. \"\"\"\n",
    "    \n",
    "    # move plaintext to uppercase and replace 'J' with 'I'\n",
    "    plaintext = plaintext.upper().replace('J', 'I')\n",
    "    \n",
    "    # cleanup plaintext by removing invalid chars\n",
    "    plaintext = [c for c in plaintext if c in string.ascii_uppercase]\n",
    "    \n",
    "    # generate table\n",
    "    table = playfair_table(key)\n",
    "    \n",
    "    # cipher text\n",
    "    ciphertext = []\n",
    "    while plaintext:\n",
    "        \n",
    "        # get first letters\n",
    "        l1 = plaintext.pop(0)\n",
    "        \n",
    "        # if there is no second letter or second letter is the same as first use X instead\n",
    "        l2 = plaintext.pop(0) if plaintext and plaintext[0] != l1 else 'X'\n",
    "        \n",
    "        # append substitute letters to ciphered text\n",
    "        ciphertext.extend(playfair_substitute(l1, l2, table, move=1))\n",
    "    \n",
    "    # change to string and return\n",
    "    return ''.join(ciphertext)\n",
    "\n",
    "\n",
    "def playfair_decipher(ciphertext: str, key:str, fill_char: str = 'X'):\n",
    "    \"\"\" Decrypts Playfair cipher. \"\"\"\n",
    "    \n",
    "    # generate table\n",
    "    table = playfair_table(key)\n",
    "    \n",
    "    # cleanup ciphertext\n",
    "    ciphertext = ciphertext.upper()\n",
    "    ciphertext = [c for c in ciphertext if c in string.ascii_uppercase]\n",
    "    \n",
    "    # cipher text\n",
    "    plaintext = []\n",
    "    while ciphertext:\n",
    "        \n",
    "        # get two letters\n",
    "        l1 = ciphertext.pop(0)\n",
    "        l2 = ciphertext.pop(0)\n",
    "        \n",
    "        # append substitute letters to ciphered text\n",
    "        plaintext.extend(playfair_substitute(l1, l2, table, move=-1))\n",
    "    \n",
    "    # flatten, remove 'X' and return\n",
    "    return ''.join(plaintext).replace('X', '')"
   ]
  },
  {
   "cell_type": "markdown",
   "metadata": {},
   "source": [
    "### Example"
   ]
  },
  {
   "cell_type": "code",
   "execution_count": 12,
   "metadata": {},
   "outputs": [
    {
     "data": {
      "text/plain": [
       "array([['K', 'L', 'U', 'C', 'Z'],\n",
       "       ['A', 'B', 'D', 'E', 'F'],\n",
       "       ['G', 'H', 'I', 'M', 'N'],\n",
       "       ['O', 'P', 'Q', 'R', 'S'],\n",
       "       ['T', 'V', 'W', 'X', 'Y']], dtype='<U1')"
      ]
     },
     "execution_count": 12,
     "metadata": {},
     "output_type": "execute_result"
    }
   ],
   "source": [
    "playfair_table('klucz')"
   ]
  },
  {
   "cell_type": "code",
   "execution_count": 13,
   "metadata": {},
   "outputs": [
    {
     "data": {
      "text/plain": [
       "'BKEGGATKET'"
      ]
     },
     "execution_count": 13,
     "metadata": {},
     "output_type": "execute_result"
    }
   ],
   "source": [
    "playfair_encipher('Ala Ma Kota', 'klucz')"
   ]
  },
  {
   "cell_type": "code",
   "execution_count": 14,
   "metadata": {},
   "outputs": [
    {
     "data": {
      "text/plain": [
       "'ALAMAKOTA'"
      ]
     },
     "execution_count": 14,
     "metadata": {},
     "output_type": "execute_result"
    }
   ],
   "source": [
    "playfair_decipher('BKEGGATKET', 'klucz')"
   ]
  },
  {
   "cell_type": "markdown",
   "metadata": {},
   "source": [
    "---\n",
    "## Enigma cipher / machine"
   ]
  },
  {
   "cell_type": "code",
   "execution_count": 15,
   "metadata": {},
   "outputs": [],
   "source": [
    "class Rotor:\n",
    "    \"\"\" Class representing Enigma rotor. \"\"\"\n",
    "    \n",
    "    def __init__(self, wiring: str, notch: str):\n",
    "        \"\"\" Defines rotor parameters. \"\"\"\n",
    "        \n",
    "        # verify that wiring and notch are correct\n",
    "        assert ''.join(sorted(wiring)) == string.ascii_uppercase, 'Wiring has to be a permutation of ascii uppercase chars'\n",
    "        assert notch in list(string.ascii_uppercase), 'Notch has to be a ascii uppercase char'\n",
    "        \n",
    "        self.ring1 = string.ascii_uppercase\n",
    "        self.ring2 = wiring\n",
    "        self.notch = notch\n",
    "    \n",
    "    def substitute(self, char: str, offset: int, ring_setting: str) -> str:\n",
    "        \"\"\" Calculates rotor substitution. \"\"\"\n",
    "        return self.ring2[\n",
    "            (self.ring1.index(char) + offset + self.ring1.index(ring_setting)) % 26\n",
    "        ]\n",
    "    \n",
    "    def inverse_substitute(self, char: str, offset: int, ring_setting: str) -> str:\n",
    "        \"\"\" Calculates inverse rotor substitution. \"\"\"\n",
    "        return self.ring1[\n",
    "            (self.ring2.index(char) - offset - self.ring1.index(ring_setting)) % 26\n",
    "        ]\n",
    "\n",
    "\n",
    "class Reflector:\n",
    "    \"\"\" Class representing Enigma reflector. \"\"\"\n",
    "    \n",
    "    def __init__(self, wiring: str):\n",
    "        \"\"\" Defines reflector parameters. \"\"\"\n",
    "        \n",
    "        # verify wiring\n",
    "        assert ''.join(sorted(wiring)) == string.ascii_uppercase, 'Wiring has to be a permutation of ascii uppercase chars'\n",
    "        \n",
    "        self.input = string.ascii_uppercase\n",
    "        self.output = wiring\n",
    "    \n",
    "    def substitute(self, char: str) -> str:\n",
    "        \"\"\" Calculates reflector substitution. \"\"\"\n",
    "        return self.output[self.input.index(char)]\n",
    "\n",
    "\n",
    "class Plugboard:\n",
    "    \"\"\" Class representing Enigma plugboard. \"\"\"\n",
    "    \n",
    "    def __init__(self, wiring: str):\n",
    "        \"\"\" Defines plugboard parameters \"\"\"\n",
    "        \n",
    "        # create default mapping\n",
    "        self.mapping = {char: char for char in string.ascii_uppercase}\n",
    "        \n",
    "        # apply provided wiring\n",
    "        for a, b in wiring.split(' '):\n",
    "            self.mapping[a] = b\n",
    "            self.mapping[b] = a\n",
    "        \n",
    "    \n",
    "    def substitute(self, char: str) -> str:\n",
    "        \"\"\" Calculates plugboard substitution. \"\"\"\n",
    "        return self.mapping[char]\n",
    "    \n",
    "\n",
    "class Enigma:\n",
    "    \n",
    "    def __init__(self, rotors: List[Rotor], reflector: Reflector, plugboard: Plugboard):\n",
    "        \"\"\"\n",
    "        Creates enigma that uses given reflector, plugboard and set of rotors.\n",
    "        List of rotors should be in order like on real Enigma: from left ro right\n",
    "        \"\"\"\n",
    "        self.rotors = rotors\n",
    "        self.reflector = reflector\n",
    "        self.plugboard = plugboard\n",
    "        \n",
    "        self.offsets = [0] * len(self.rotors)\n",
    "        self.ring_setings = 'A' * len(self.rotors)\n",
    "    \n",
    "    def reset(self, ring_settings: str = None):\n",
    "        \"\"\" Resets enigma to starting position and sets ring settings if provided \"\"\"\n",
    "        self.offsets = [0] * len(self.rotors)\n",
    "        \n",
    "        if ring_settings:\n",
    "            self.ring_setings = ring_settings\n",
    "    \n",
    "    def advance_rotors(self):\n",
    "        \"\"\" Advances enigma rotors by one tick. \"\"\"\n",
    "        \n",
    "        # rotors rotate from right to left\n",
    "        for i in reversed(range(len(self.rotors))):\n",
    "            self.offsets[i] += 1\n",
    "            \n",
    "            # if notch does not match stop propagation of rotation\n",
    "            if self.rotors[i].ring1[(self.offsets[i]-1)%26] != self.rotors[i].notch:\n",
    "                return\n",
    "        \n",
    "    \n",
    "    def encipher_char(self, char: str) -> str:\n",
    "        \"\"\" Applies enigma cipher to single char. \"\"\"\n",
    "        \n",
    "        # rotate rotors\n",
    "        self.advance_rotors()\n",
    "        \n",
    "        # first pass through plugboard\n",
    "        char = self.plugboard.substitute(char)\n",
    "        \n",
    "        # first pass through rotors\n",
    "        for rotor, offset, ring_setting in reversed(list(zip(self.rotors, self.offsets, self.ring_setings))):\n",
    "            char = rotor.substitute(char, offset, ring_setting)\n",
    "        \n",
    "        # then is reflector\n",
    "        char = self.reflector.substitute(char)\n",
    "        \n",
    "        # second pass through rotors\n",
    "        for rotor, offset, ring_setting in zip(self.rotors, self.offsets, self.ring_setings):\n",
    "            char = rotor.inverse_substitute(char, offset, ring_setting)\n",
    "        \n",
    "        # second pass through plugboard\n",
    "        char = self.plugboard.substitute(char)\n",
    "        \n",
    "        return char\n",
    "    \n",
    "    def encipher(self, text: str) -> str:\n",
    "        \"\"\" Applies enigma cipher to given text. \"\"\"\n",
    "        \n",
    "        # remove invalid chars from text\n",
    "        text = [char for char in text.upper() if char in string.ascii_uppercase]\n",
    "        \n",
    "        # encipher\n",
    "        ciphertext = [self.encipher_char(char) for char in text]\n",
    "        \n",
    "        return ''.join(ciphertext)"
   ]
  },
  {
   "cell_type": "markdown",
   "metadata": {},
   "source": [
    "### Example"
   ]
  },
  {
   "cell_type": "code",
   "execution_count": 16,
   "metadata": {},
   "outputs": [],
   "source": [
    "# constrct enigma machine\n",
    "reflector_B = Reflector('YRUHQSLDPXNGOKMIEBFZCWVJAT')\n",
    "rotor_1 = Rotor('EKMFLGDQVZNTOWYHXUSPAIBRCJ', 'Q')\n",
    "rotor_2 = Rotor('AJDKSIRUXBLHWTMCQGZNPYFVOE', 'E')\n",
    "rotor_3 = Rotor('BDFHJLCPRTXVZNYEIWGAKMUSQO', 'V')\n",
    "plugboard = Plugboard('PO ML IU KJ NH YT GB VF RE DC')\n",
    "\n",
    "enigma = Enigma(\n",
    "    [rotor_1, rotor_2, rotor_3],\n",
    "    reflector_B,\n",
    "    plugboard\n",
    ")"
   ]
  },
  {
   "cell_type": "code",
   "execution_count": 17,
   "metadata": {},
   "outputs": [
    {
     "data": {
      "text/plain": [
       "'DVTNNVPAK'"
      ]
     },
     "execution_count": 17,
     "metadata": {},
     "output_type": "execute_result"
    }
   ],
   "source": [
    "# encipher 'ala ma kota' with ring settings 'BVF'\n",
    "enigma.reset(ring_settings='BVF')\n",
    "enigma.encipher('ala ma kota')"
   ]
  },
  {
   "cell_type": "code",
   "execution_count": 18,
   "metadata": {},
   "outputs": [
    {
     "data": {
      "text/plain": [
       "'FPLOUHCKM'"
      ]
     },
     "execution_count": 18,
     "metadata": {},
     "output_type": "execute_result"
    }
   ],
   "source": [
    "# try to decode without reseting => does not work\n",
    "enigma.encipher('DVTNNVPAK')"
   ]
  },
  {
   "cell_type": "code",
   "execution_count": 19,
   "metadata": {},
   "outputs": [
    {
     "data": {
      "text/plain": [
       "'UBMFEYTZF'"
      ]
     },
     "execution_count": 19,
     "metadata": {},
     "output_type": "execute_result"
    }
   ],
   "source": [
    "# try to decode with wrong ring settings => does not work\n",
    "enigma.reset(ring_settings='TWZ')\n",
    "enigma.encipher('DVTNNVPAK')"
   ]
  },
  {
   "cell_type": "code",
   "execution_count": 20,
   "metadata": {},
   "outputs": [
    {
     "data": {
      "text/plain": [
       "'ALAMAKOTA'"
      ]
     },
     "execution_count": 20,
     "metadata": {},
     "output_type": "execute_result"
    }
   ],
   "source": [
    "# try to decode with same ring settings => it works!!!\n",
    "enigma.reset(ring_settings='BVF')\n",
    "enigma.encipher('DVTNNVPAK')"
   ]
  },
  {
   "cell_type": "markdown",
   "metadata": {},
   "source": [
    "---\n",
    "## Histograms"
   ]
  },
  {
   "cell_type": "code",
   "execution_count": 21,
   "metadata": {},
   "outputs": [],
   "source": [
    "def graph_histogram(plaintext: str, alphabet: str, title: str = 'Histogram'):\n",
    "    # calculate occurences\n",
    "    d = OrderedDict({l: 0 for l in alphabet})\n",
    "    d.update(Counter(plaintext))\n",
    "    \n",
    "    # calculate frequency in %\n",
    "    d = {l: v/len(plaintext) for l, v in d.items()}\n",
    "    \n",
    "    # plot graph\n",
    "    plt.bar(d.keys(), d.values(), alpha=0.5, edgecolor=\"green\")\n",
    "    plt.xlabel('Alphabet')\n",
    "    plt.ylabel('Frequency')\n",
    "    plt.title(title)\n",
    "    plt.show()"
   ]
  },
  {
   "cell_type": "markdown",
   "metadata": {},
   "source": [
    "---"
   ]
  },
  {
   "cell_type": "code",
   "execution_count": 22,
   "metadata": {},
   "outputs": [],
   "source": [
    "plaintext = 'tobeornottobethatisthequestionwhethertisnoblerinthemindtosuffertheslingsandarrowsofoutrageousfortuneortotakearmsagainstaseaoftroublesandbyopposingendthem'\n",
    "alphabet = 'abcdefghijklmnopqrstuvwxyz'\n",
    "key = 'lion'"
   ]
  },
  {
   "cell_type": "code",
   "execution_count": 23,
   "metadata": {
    "scrolled": false
   },
   "outputs": [
    {
     "data": {
      "image/png": "[encoded data removed]",
      "text/plain": [
       "<Figure size 432x288 with 1 Axes>"
      ]
     },
     "metadata": {
      "needs_background": "light"
     },
     "output_type": "display_data"
    }
   ],
   "source": [
    "graph_histogram(plaintext, alphabet, title='Plain text')"
   ]
  },
  {
   "cell_type": "code",
   "execution_count": 24,
   "metadata": {},
   "outputs": [
    {
     "data": {
      "image/png": "[encoded data removed]",
      "text/plain": [
       "<Figure size 432x288 with 1 Axes>"
      ]
     },
     "metadata": {
      "needs_background": "light"
     },
     "output_type": "display_data"
    }
   ],
   "source": [
    "graph_histogram(caesar_encipher(plaintext, 5, alphabet), alphabet, title='Caesar cipher')"
   ]
  },
  {
   "cell_type": "markdown",
   "metadata": {},
   "source": [
    "---"
   ]
  },
  {
   "cell_type": "code",
   "execution_count": 25,
   "metadata": {},
   "outputs": [
    {
     "data": {
      "image/png": "[encoded data removed]",
      "text/plain": [
       "<Figure size 432x288 with 1 Axes>"
      ]
     },
     "metadata": {
      "needs_background": "light"
     },
     "output_type": "display_data"
    }
   ],
   "source": [
    "graph_histogram(vigenere_encipher(plaintext, key, alphabet), alphabet, title='Vigenere cipher')"
   ]
  },
  {
   "cell_type": "code",
   "execution_count": 26,
   "metadata": {},
   "outputs": [
    {
     "data": {
      "image/png": "[encoded data removed]",
      "text/plain": [
       "<Figure size 432x288 with 1 Axes>"
      ]
     },
     "metadata": {
      "needs_background": "light"
     },
     "output_type": "display_data"
    }
   ],
   "source": [
    "graph_histogram(playfair_encipher(plaintext, key), string.ascii_uppercase, title='Playfair cipher')"
   ]
  },
  {
   "cell_type": "code",
   "execution_count": 27,
   "metadata": {},
   "outputs": [
    {
     "data": {
      "image/png": "[encoded data removed]",
      "text/plain": [
       "<Figure size 432x288 with 1 Axes>"
      ]
     },
     "metadata": {
      "needs_background": "light"
     },
     "output_type": "display_data"
    }
   ],
   "source": [
    "enigma.reset(ring_settings='TWZ')\n",
    "graph_histogram(enigma.encipher(plaintext), string.ascii_uppercase, title='Enigma machine')"
   ]
  }
 ],
 "metadata": {
  "kernelspec": {
   "display_name": "Python 3",
   "language": "python",
   "name": "python3"
  },
  "language_info": {
   "codemirror_mode": {
    "name": "ipython",
    "version": 3
   },
   "file_extension": ".py",
   "mimetype": "text/x-python",
   "name": "python",
   "nbconvert_exporter": "python",
   "pygments_lexer": "ipython3",
   "version": "3.7.4"
  }
 },
 "nbformat": 4,
 "nbformat_minor": 2
}
